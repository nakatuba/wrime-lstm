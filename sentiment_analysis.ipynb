{
 "cells": [
  {
   "cell_type": "code",
   "execution_count": 1,
   "id": "7f45f77d-9bdc-4a27-9463-4e04d2007d3b",
   "metadata": {},
   "outputs": [],
   "source": [
    "import torch\n",
    "import torch.nn as nn\n",
    "import torch.optim as optim\n",
    "from torchtext.legacy import data\n",
    "\n",
    "device = torch.device(\"cuda\" if torch.cuda.is_available() else \"cpu\")"
   ]
  },
  {
   "cell_type": "code",
   "execution_count": 2,
   "id": "f1e1b09e-7ee6-4817-93e2-dddae4449456",
   "metadata": {},
   "outputs": [
    {
     "data": {
      "text/plain": [
       "['私', 'は', '日本人', 'です', '。']"
      ]
     },
     "execution_count": 2,
     "metadata": {},
     "output_type": "execute_result"
    }
   ],
   "source": [
    "import MeCab\n",
    "\n",
    "tagger = MeCab.Tagger(\"-Owakati\")\n",
    "\n",
    "\n",
    "def tokenizer(text):\n",
    "    text = tagger.parse(text)\n",
    "    return text.split()\n",
    "\n",
    "\n",
    "tokenizer(\"私は日本人です。\")"
   ]
  },
  {
   "cell_type": "code",
   "execution_count": 3,
   "id": "2a5a9232-cbf9-4e24-9def-9f2229c904e0",
   "metadata": {},
   "outputs": [
    {
     "data": {
      "text/plain": [
       "{'text': ['ぼけ',\n",
       "  'っと',\n",
       "  'し',\n",
       "  'て',\n",
       "  'たら',\n",
       "  'こんな',\n",
       "  '時間',\n",
       "  '｡',\n",
       "  'チャリ',\n",
       "  'ある',\n",
       "  'から',\n",
       "  '食べ',\n",
       "  'に',\n",
       "  'で',\n",
       "  'たい',\n",
       "  'のに',\n",
       "  '…'],\n",
       " 'label': '0'}"
      ]
     },
     "execution_count": 3,
     "metadata": {},
     "output_type": "execute_result"
    }
   ],
   "source": [
    "TEXT = data.Field(sequential=True, use_vocab=True, tokenize=tokenizer)\n",
    "LABEL = data.Field(sequential=False, use_vocab=False)\n",
    "\n",
    "train_dataset, val_dataset, test_dataset = data.TabularDataset.splits(\n",
    "    path=\"./data\",\n",
    "    train=\"train.tsv\",\n",
    "    validation=\"val.tsv\",\n",
    "    test=\"test.tsv\",\n",
    "    format=\"tsv\",\n",
    "    fields=[(\"text\", TEXT), (\"label\", LABEL)],\n",
    "    skip_header=True,\n",
    ")\n",
    "\n",
    "vars(train_dataset[0])"
   ]
  },
  {
   "cell_type": "code",
   "execution_count": 4,
   "id": "a1ee950d-900a-415c-8c0c-15ed66613d8d",
   "metadata": {},
   "outputs": [],
   "source": [
    "TEXT.build_vocab(train_dataset, min_freq=1)"
   ]
  },
  {
   "cell_type": "code",
   "execution_count": 5,
   "id": "c09ad5b9-ca0e-44a4-a354-1dc1452aa63a",
   "metadata": {},
   "outputs": [
    {
     "name": "stdout",
     "output_type": "stream",
     "text": [
      "tensor([[ 2190,   163, 23390,  ...,  1371,   394, 36898],\n",
      "        [ 1697,   175,     6,  ...,    35,     2,  1409],\n",
      "        [ 3997,   285, 13875,  ...,    27,   457,   942],\n",
      "        ...,\n",
      "        [    1,     1,     1,  ...,     1,     1,     1],\n",
      "        [    1,     1,     1,  ...,     1,     1,     1],\n",
      "        [    1,     1,     1,  ...,     1,     1,     1]])\n",
      "tensor([0, 1, 1, 0, 0, 2, 0, 0, 0, 2, 0, 1, 1, 0, 2, 0, 1, 0, 0, 0, 3, 0, 0, 1,\n",
      "        0, 0, 1, 0, 0, 0, 0, 1])\n"
     ]
    }
   ],
   "source": [
    "batch_size = 32\n",
    "\n",
    "train_iter = data.Iterator(\n",
    "    train_dataset, batch_size=batch_size, device=device, train=True\n",
    ")\n",
    "\n",
    "val_iter = data.Iterator(\n",
    "    val_dataset, batch_size=batch_size, device=device, train=False, sort=False\n",
    ")\n",
    "\n",
    "test_iter = data.Iterator(\n",
    "    test_dataset, batch_size=batch_size, device=device, train=False, sort=False\n",
    ")\n",
    "\n",
    "batch = next(iter(train_iter))\n",
    "print(batch.text)\n",
    "print(batch.label)"
   ]
  },
  {
   "cell_type": "code",
   "execution_count": 6,
   "id": "7a0d74d0-5088-4e4f-9df7-6ab888d551c5",
   "metadata": {},
   "outputs": [],
   "source": [
    "class LSTM(nn.Module):\n",
    "    def __init__(self, input_dim, embedding_dim, hidden_dim, output_dim):\n",
    "        super().__init__()\n",
    "        self.embedding = nn.Embedding(input_dim, embedding_dim)\n",
    "        self.lstm = nn.LSTM(embedding_dim, hidden_dim)\n",
    "        self.linear = nn.Linear(hidden_dim, output_dim)\n",
    "\n",
    "    def forward(self, text):\n",
    "        output = self.embedding(text)\n",
    "        output, (hn, cn) = self.lstm(output)\n",
    "        output = self.linear(output[-1])\n",
    "        return output"
   ]
  },
  {
   "cell_type": "code",
   "execution_count": 7,
   "id": "12d4f0b3-6924-4c5e-b21a-e94a2dfddc0f",
   "metadata": {},
   "outputs": [],
   "source": [
    "def train(model, iterator, optimizer, criterion):\n",
    "    model.train()\n",
    "    epoch_loss = 0\n",
    "\n",
    "    for batch in iterator:\n",
    "        outputs = model(batch.text)\n",
    "        loss = criterion(outputs, batch.label)\n",
    "\n",
    "        optimizer.zero_grad()\n",
    "        loss.backward()\n",
    "        optimizer.step()\n",
    "\n",
    "        epoch_loss += loss.item()\n",
    "\n",
    "    return epoch_loss / len(iterator)"
   ]
  },
  {
   "cell_type": "code",
   "execution_count": 8,
   "id": "b94896b6-502c-4e62-8bf4-d61e8e4e3176",
   "metadata": {},
   "outputs": [],
   "source": [
    "def evaluate(model, iterator, criterion):\n",
    "    model.eval()\n",
    "    epoch_loss = 0\n",
    "\n",
    "    with torch.no_grad():\n",
    "        for batch in iterator:\n",
    "            outputs = model(batch.text)\n",
    "            loss = criterion(outputs, batch.label)\n",
    "\n",
    "            epoch_loss += loss.item()\n",
    "\n",
    "    return epoch_loss / len(iterator)"
   ]
  },
  {
   "cell_type": "code",
   "execution_count": 9,
   "id": "6564ba0c-f9dd-4b7a-9ef6-2c064c473e9e",
   "metadata": {
    "tags": []
   },
   "outputs": [
    {
     "name": "stdout",
     "output_type": "stream",
     "text": [
      "Epoch  1/10 train_loss 1.1825 val_loss 1.0054\n",
      "Epoch  2/10 train_loss 0.9204 val_loss 0.9713\n",
      "Epoch  3/10 train_loss 0.9117 val_loss 0.9658\n",
      "Epoch  4/10 train_loss 0.9088 val_loss 0.9603\n",
      "Epoch  5/10 train_loss 0.9061 val_loss 0.9572\n",
      "Epoch  6/10 train_loss 0.9033 val_loss 0.9541\n",
      "Epoch  7/10 train_loss 0.8994 val_loss 0.9529\n",
      "Epoch  8/10 train_loss 0.8963 val_loss 0.9476\n",
      "Epoch  9/10 train_loss 0.8950 val_loss 0.9480\n",
      "Epoch 10/10 train_loss 0.8946 val_loss 0.9477\n"
     ]
    }
   ],
   "source": [
    "model = LSTM(len(TEXT.vocab), 32, 32, 4).to(device)\n",
    "criterion = nn.CrossEntropyLoss()\n",
    "optimizer = optim.Adam(model.parameters(), lr=2e-5)\n",
    "\n",
    "num_epochs = 10\n",
    "for epoch in range(num_epochs):\n",
    "    train_loss = train(model, train_iter, optimizer, criterion)\n",
    "    val_loss = evaluate(model, val_iter, criterion)\n",
    "    print(f\"Epoch {epoch + 1:>2}/{num_epochs}\", end=\" \")\n",
    "    print(f\"train_loss {train_loss:.4f}\", end=\" \")\n",
    "    print(f\"val_loss {val_loss:.4f}\")"
   ]
  },
  {
   "cell_type": "code",
   "execution_count": 10,
   "id": "93150c8f-d1fa-4831-9e94-7d536ca0fdf2",
   "metadata": {
    "tags": []
   },
   "outputs": [
    {
     "data": {
      "text/plain": [
       "0.4245"
      ]
     },
     "execution_count": 10,
     "metadata": {},
     "output_type": "execute_result"
    }
   ],
   "source": [
    "from sklearn.metrics import mean_absolute_error\n",
    "\n",
    "model.eval()\n",
    "joy_true = []\n",
    "joy_pred = []\n",
    "\n",
    "with torch.no_grad():\n",
    "    for batch in test_iter:\n",
    "        outputs = model(batch.text)\n",
    "        _, preds = torch.max(outputs, 1)\n",
    "        joy_true += batch.label.cpu()\n",
    "        joy_pred += preds.cpu()\n",
    "\n",
    "mean_absolute_error(joy_true, joy_pred)"
   ]
  }
 ],
 "metadata": {
  "kernelspec": {
   "display_name": "Python 3",
   "language": "python",
   "name": "python3"
  },
  "language_info": {
   "codemirror_mode": {
    "name": "ipython",
    "version": 3
   },
   "file_extension": ".py",
   "mimetype": "text/x-python",
   "name": "python",
   "nbconvert_exporter": "python",
   "pygments_lexer": "ipython3",
   "version": "3.9.1"
  }
 },
 "nbformat": 4,
 "nbformat_minor": 5
}
