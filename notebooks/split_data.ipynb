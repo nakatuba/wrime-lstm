{
 "cells": [
  {
   "cell_type": "code",
   "execution_count": 1,
   "id": "7a75f16f-94a3-4984-b18d-d9d4d9ba4be8",
   "metadata": {},
   "outputs": [
    {
     "name": "stdout",
     "output_type": "stream",
     "text": [
      "訓練用データ 40000\n",
      "検証用データ 1200\n",
      "評価用データ 2000\n"
     ]
    }
   ],
   "source": [
    "import pandas as pd\n",
    "\n",
    "df = pd.read_csv(\"../data/wrime.tsv\", sep=\"\\t\")\n",
    "\n",
    "df[\"Readers_mean\"] = df[[\"Reader1_Joy\", \"Reader2_Joy\", \"Reader3_Joy\"]].mean(axis=1)\n",
    "df[\"Readers_std\"] = df[[\"Reader1_Joy\", \"Reader2_Joy\", \"Reader3_Joy\"]].std(axis=1)\n",
    "df[\"Difference\"] = df[\"Writer_Joy\"] - df[\"Readers_mean\"]\n",
    "\n",
    "df[\"Label\"] = 0  # 客観3人のばらつきが大きい（標準偏差が1以上）\n",
    "df.loc[df[\"Readers_std\"] < 1, \"Label\"] = 1  # 主観と客観の差が少ない（差の絶対値が1以下）\n",
    "df.loc[(df[\"Readers_std\"] < 1) & (df[\"Difference\"] > 1), \"Label\"] = 2 # 主観 > 客観\n",
    "df.loc[(df[\"Readers_std\"] < 1) & (df[\"Difference\"] < -1), \"Label\"] = 3 # 主観 < 客観\n",
    "\n",
    "columns = [\n",
    "    \"Sentence\",\n",
    "    \"Writer_Joy\",\n",
    "    \"Reader1_Joy\",\n",
    "    \"Reader2_Joy\",\n",
    "    \"Reader3_Joy\",\n",
    "    \"Readers_mean\",\n",
    "    \"Readers_std\",\n",
    "    \"Difference\",\n",
    "    \"Label\",\n",
    "]\n",
    "\n",
    "train_df = df[df[\"Train/Dev/Test\"] == \"train\"][columns]\n",
    "valid_df = df[df[\"Train/Dev/Test\"] == \"dev\"][columns]\n",
    "test_df = df[df[\"Train/Dev/Test\"] == \"test\"][columns]\n",
    "\n",
    "print(\"訓練用データ\", len(train_df))\n",
    "print(\"検証用データ\", len(valid_df))\n",
    "print(\"評価用データ\", len(test_df))\n",
    "\n",
    "train_df.to_csv(\"../data/train.tsv\", sep=\"\\t\", index=False)\n",
    "valid_df.to_csv(\"../data/valid.tsv\", sep=\"\\t\", index=False)\n",
    "test_df.to_csv(\"../data/test.tsv\", sep=\"\\t\", index=False)"
   ]
  },
  {
   "cell_type": "code",
   "execution_count": 2,
   "id": "0dc5e8f7-69b7-4ae3-9001-2db8cfed2c22",
   "metadata": {},
   "outputs": [
    {
     "data": {
      "text/plain": [
       "0     6641\n",
       "1    31653\n",
       "2     4386\n",
       "3      520\n",
       "Name: Label, dtype: int64"
      ]
     },
     "execution_count": 2,
     "metadata": {},
     "output_type": "execute_result"
    }
   ],
   "source": [
    "df[\"Label\"].value_counts().sort_index()"
   ]
  },
  {
   "cell_type": "code",
   "execution_count": 3,
   "id": "07bc5a85-bd1f-4d8a-95b6-c17b5cb0063f",
   "metadata": {},
   "outputs": [
    {
     "data": {
      "text/plain": [
       "0     6123\n",
       "1    29356\n",
       "2     4031\n",
       "3      490\n",
       "Name: Label, dtype: int64"
      ]
     },
     "execution_count": 3,
     "metadata": {},
     "output_type": "execute_result"
    }
   ],
   "source": [
    "train_df[\"Label\"].value_counts().sort_index()"
   ]
  },
  {
   "cell_type": "code",
   "execution_count": 4,
   "id": "9f700542-918b-4001-931d-470be421f13b",
   "metadata": {},
   "outputs": [
    {
     "data": {
      "text/plain": [
       "0    221\n",
       "1    759\n",
       "2    202\n",
       "3     18\n",
       "Name: Label, dtype: int64"
      ]
     },
     "execution_count": 4,
     "metadata": {},
     "output_type": "execute_result"
    }
   ],
   "source": [
    "valid_df[\"Label\"].value_counts().sort_index()"
   ]
  },
  {
   "cell_type": "code",
   "execution_count": 5,
   "id": "1504d8ca-d563-442e-9945-06431f92bed2",
   "metadata": {},
   "outputs": [
    {
     "data": {
      "text/plain": [
       "0     297\n",
       "1    1538\n",
       "2     153\n",
       "3      12\n",
       "Name: Label, dtype: int64"
      ]
     },
     "execution_count": 5,
     "metadata": {},
     "output_type": "execute_result"
    }
   ],
   "source": [
    "test_df[\"Label\"].value_counts().sort_index()"
   ]
  }
 ],
 "metadata": {
  "kernelspec": {
   "display_name": "Python 3",
   "language": "python",
   "name": "python3"
  },
  "language_info": {
   "codemirror_mode": {
    "name": "ipython",
    "version": 3
   },
   "file_extension": ".py",
   "mimetype": "text/x-python",
   "name": "python",
   "nbconvert_exporter": "python",
   "pygments_lexer": "ipython3",
   "version": "3.8.10"
  }
 },
 "nbformat": 4,
 "nbformat_minor": 5
}
