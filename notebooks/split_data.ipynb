{
 "cells": [
  {
   "cell_type": "code",
   "execution_count": 1,
   "id": "7a75f16f-94a3-4984-b18d-d9d4d9ba4be8",
   "metadata": {},
   "outputs": [
    {
     "name": "stdout",
     "output_type": "stream",
     "text": [
      "訓練用データ 34560\n",
      "評価用データ 8640\n"
     ]
    }
   ],
   "source": [
    "import pandas as pd\n",
    "from sklearn.model_selection import train_test_split\n",
    "\n",
    "df = pd.read_csv(\"../data/wrime.tsv\", sep=\"\\t\")\n",
    "\n",
    "df[\"Readers_mean\"] = df[[\"Reader1_Joy\", \"Reader2_Joy\", \"Reader3_Joy\"]].mean(axis=1)\n",
    "df[\"Readers_std\"] = df[[\"Reader1_Joy\", \"Reader2_Joy\", \"Reader3_Joy\"]].std(axis=1)\n",
    "df[\"Difference\"] = df[\"Writer_Joy\"] - df[\"Readers_mean\"]\n",
    "\n",
    "df[\"Label\"] = 0  # 客観3人のばらつきが大きい（標準偏差が1以上）\n",
    "df.loc[df[\"Readers_std\"] < 1, \"Label\"] = 1  # 主観と客観の差が少ない（差の絶対値が1以下）\n",
    "df.loc[(df[\"Readers_std\"] < 1) & (df[\"Difference\"] > 1), \"Label\"] = 2 # 主観 > 客観\n",
    "df.loc[(df[\"Readers_std\"] < 1) & (df[\"Difference\"] < -1), \"Label\"] = 3 # 主観 < 客観\n",
    "\n",
    "df = df[\n",
    "    [\n",
    "        \"Sentence\",\n",
    "        \"Writer_Joy\",\n",
    "        \"Reader1_Joy\",\n",
    "        \"Reader2_Joy\",\n",
    "        \"Reader3_Joy\",\n",
    "        \"Readers_mean\",\n",
    "        \"Readers_std\",\n",
    "        \"Difference\",\n",
    "        \"Label\",\n",
    "    ]\n",
    "]\n",
    "\n",
    "train_df, test_df = train_test_split(df, test_size=0.20, random_state=0)\n",
    "\n",
    "print(\"訓練用データ\", len(train_df))\n",
    "print(\"評価用データ\", len(test_df))\n",
    "\n",
    "train_df.to_csv(\"../data/train.tsv\", sep=\"\\t\", index=False)\n",
    "test_df.to_csv(\"../data/test.tsv\", sep=\"\\t\", index=False)"
   ]
  },
  {
   "cell_type": "code",
   "execution_count": 2,
   "id": "b9b9e64c-e066-4597-a00e-1f19d50eea9b",
   "metadata": {},
   "outputs": [
    {
     "data": {
      "text/html": [
       "<div>\n",
       "<style scoped>\n",
       "    .dataframe tbody tr th:only-of-type {\n",
       "        vertical-align: middle;\n",
       "    }\n",
       "\n",
       "    .dataframe tbody tr th {\n",
       "        vertical-align: top;\n",
       "    }\n",
       "\n",
       "    .dataframe thead th {\n",
       "        text-align: right;\n",
       "    }\n",
       "</style>\n",
       "<table border=\"1\" class=\"dataframe\">\n",
       "  <thead>\n",
       "    <tr style=\"text-align: right;\">\n",
       "      <th></th>\n",
       "      <th>train</th>\n",
       "      <th>test</th>\n",
       "      <th>all</th>\n",
       "    </tr>\n",
       "  </thead>\n",
       "  <tbody>\n",
       "    <tr>\n",
       "      <th>0</th>\n",
       "      <td>5303</td>\n",
       "      <td>1338</td>\n",
       "      <td>6641</td>\n",
       "    </tr>\n",
       "    <tr>\n",
       "      <th>1</th>\n",
       "      <td>25331</td>\n",
       "      <td>6322</td>\n",
       "      <td>31653</td>\n",
       "    </tr>\n",
       "    <tr>\n",
       "      <th>2</th>\n",
       "      <td>3502</td>\n",
       "      <td>884</td>\n",
       "      <td>4386</td>\n",
       "    </tr>\n",
       "    <tr>\n",
       "      <th>3</th>\n",
       "      <td>424</td>\n",
       "      <td>96</td>\n",
       "      <td>520</td>\n",
       "    </tr>\n",
       "  </tbody>\n",
       "</table>\n",
       "</div>"
      ],
      "text/plain": [
       "   train  test    all\n",
       "0   5303  1338   6641\n",
       "1  25331  6322  31653\n",
       "2   3502   884   4386\n",
       "3    424    96    520"
      ]
     },
     "execution_count": 2,
     "metadata": {},
     "output_type": "execute_result"
    }
   ],
   "source": [
    "pd.DataFrame(\n",
    "    {\n",
    "        \"train\": train_df[\"Label\"].value_counts().sort_index(),\n",
    "        \"test\": test_df[\"Label\"].value_counts().sort_index(),\n",
    "        \"all\": df[\"Label\"].value_counts().sort_index(),\n",
    "    }\n",
    ")"
   ]
  }
 ],
 "metadata": {
  "kernelspec": {
   "display_name": "Python 3",
   "language": "python",
   "name": "python3"
  },
  "language_info": {
   "codemirror_mode": {
    "name": "ipython",
    "version": 3
   },
   "file_extension": ".py",
   "mimetype": "text/x-python",
   "name": "python",
   "nbconvert_exporter": "python",
   "pygments_lexer": "ipython3",
   "version": "3.8.10"
  }
 },
 "nbformat": 4,
 "nbformat_minor": 5
}
