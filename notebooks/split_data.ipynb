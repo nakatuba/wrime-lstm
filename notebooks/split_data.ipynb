{
 "cells": [
  {
   "cell_type": "code",
   "execution_count": 1,
   "id": "7a75f16f-94a3-4984-b18d-d9d4d9ba4be8",
   "metadata": {},
   "outputs": [
    {
     "name": "stderr",
     "output_type": "stream",
     "text": [
      "/Users/nakagawatsubasa/.pyenv/versions/sentiment-analysis/lib/python3.9/site-packages/pandas/compat/__init__.py:97: UserWarning: Could not import the lzma module. Your installed Python is incomplete. Attempting to use lzma compression will result in a RuntimeError.\n",
      "  warnings.warn(msg)\n"
     ]
    },
    {
     "name": "stdout",
     "output_type": "stream",
     "text": [
      "訓練用データ 40000\n",
      "検証用データ 1200\n",
      "評価用データ 2000\n"
     ]
    }
   ],
   "source": [
    "import pandas as pd\n",
    "\n",
    "df = pd.read_csv(\"../data/wrime.tsv\", sep=\"\\t\")\n",
    "\n",
    "columns = [\n",
    "    \"Sentence\",\n",
    "    \"Avg. Readers_Joy\",\n",
    "    \"Avg. Readers_Sadness\",\n",
    "    \"Avg. Readers_Anticipation\",\n",
    "    \"Avg. Readers_Surprise\",\n",
    "    \"Avg. Readers_Anger\",\n",
    "    \"Avg. Readers_Fear\",\n",
    "    \"Avg. Readers_Disgust\",\n",
    "    \"Avg. Readers_Trust\",\n",
    "]\n",
    "\n",
    "train_df = df[df[\"Train/Dev/Test\"] == \"train\"][columns]\n",
    "val_df = df[df[\"Train/Dev/Test\"] == \"dev\"][columns]\n",
    "test_df = df[df[\"Train/Dev/Test\"] == \"test\"][columns]\n",
    "\n",
    "print(\"訓練用データ\", len(train_df))\n",
    "print(\"検証用データ\", len(val_df))\n",
    "print(\"評価用データ\", len(test_df))\n",
    "\n",
    "train_df.to_csv(\"../data/train.tsv\", sep=\"\\t\", index=False)\n",
    "val_df.to_csv(\"../data/val.tsv\", sep=\"\\t\", index=False)\n",
    "test_df.to_csv(\"../data/test.tsv\", sep=\"\\t\", index=False)"
   ]
  }
 ],
 "metadata": {
  "kernelspec": {
   "display_name": "Python 3",
   "language": "python",
   "name": "python3"
  },
  "language_info": {
   "codemirror_mode": {
    "name": "ipython",
    "version": 3
   },
   "file_extension": ".py",
   "mimetype": "text/x-python",
   "name": "python",
   "nbconvert_exporter": "python",
   "pygments_lexer": "ipython3",
   "version": "3.9.1"
  }
 },
 "nbformat": 4,
 "nbformat_minor": 5
}
