{
 "cells": [
  {
   "cell_type": "code",
   "execution_count": 1,
   "id": "7a75f16f-94a3-4984-b18d-d9d4d9ba4be8",
   "metadata": {},
   "outputs": [],
   "source": [
    "import pandas as pd\n",
    "from sklearn.model_selection import train_test_split\n",
    "\n",
    "df = pd.read_csv(\"../data/wrime.tsv\", sep=\"\\t\")\n",
    "\n",
    "df = df[\n",
    "    [\n",
    "        \"Sentence\",\n",
    "        \"Writer_Joy\",\n",
    "        \"Reader1_Joy\",\n",
    "        \"Reader2_Joy\",\n",
    "        \"Reader3_Joy\",\n",
    "    ]\n",
    "]\n",
    "\n",
    "df[\"Sentence\"] = df[\"Sentence\"].replace(r\"\\\\n\", \"\", regex=True)\n",
    "df[\"Readers_mean\"] = df[[\"Reader1_Joy\", \"Reader2_Joy\", \"Reader3_Joy\"]].mean(axis=1)\n",
    "df[\"Readers_std\"] = df[[\"Reader1_Joy\", \"Reader2_Joy\", \"Reader3_Joy\"]].std(axis=1)\n",
    "df[\"Difference\"] = df[\"Writer_Joy\"] - df[\"Readers_mean\"]\n",
    "\n",
    "df[\"Label\"] = 0  # 客観3人のばらつきが大きい（標準偏差が1以上）\n",
    "df.loc[df[\"Readers_std\"] < 1, \"Label\"] = 1  # 主観と客観の差が少ない（差の絶対値が1以下）\n",
    "df.loc[(df[\"Readers_std\"] < 1) & (df[\"Difference\"] > 1), \"Label\"] = 2  # 主観 > 客観\n",
    "df.loc[(df[\"Readers_std\"] < 1) & (df[\"Difference\"] < -1), \"Label\"] = 3  # 主観 < 客観\n",
    "\n",
    "train_df, test_df = train_test_split(\n",
    "    df, test_size=0.20, random_state=0, stratify=df[\"Label\"]\n",
    ")\n",
    "\n",
    "df.to_csv(\"../data/joy.tsv\", sep=\"\\t\", index=False)\n",
    "train_df.to_csv(\"../data/train.tsv\", sep=\"\\t\", index=False)\n",
    "test_df.to_csv(\"../data/test.tsv\", sep=\"\\t\", index=False)"
   ]
  },
  {
   "cell_type": "code",
   "execution_count": 2,
   "id": "b9b9e64c-e066-4597-a00e-1f19d50eea9b",
   "metadata": {
    "tags": []
   },
   "outputs": [
    {
     "data": {
      "text/html": [
       "<div>\n",
       "<style scoped>\n",
       "    .dataframe tbody tr th:only-of-type {\n",
       "        vertical-align: middle;\n",
       "    }\n",
       "\n",
       "    .dataframe tbody tr th {\n",
       "        vertical-align: top;\n",
       "    }\n",
       "\n",
       "    .dataframe thead th {\n",
       "        text-align: right;\n",
       "    }\n",
       "</style>\n",
       "<table border=\"1\" class=\"dataframe\">\n",
       "  <thead>\n",
       "    <tr style=\"text-align: right;\">\n",
       "      <th></th>\n",
       "      <th>train</th>\n",
       "      <th>test</th>\n",
       "      <th>all</th>\n",
       "    </tr>\n",
       "  </thead>\n",
       "  <tbody>\n",
       "    <tr>\n",
       "      <th>(i)</th>\n",
       "      <td>5313</td>\n",
       "      <td>1328</td>\n",
       "      <td>6641</td>\n",
       "    </tr>\n",
       "    <tr>\n",
       "      <th>(ii)</th>\n",
       "      <td>25322</td>\n",
       "      <td>6331</td>\n",
       "      <td>31653</td>\n",
       "    </tr>\n",
       "    <tr>\n",
       "      <th>(iii)</th>\n",
       "      <td>3509</td>\n",
       "      <td>877</td>\n",
       "      <td>4386</td>\n",
       "    </tr>\n",
       "    <tr>\n",
       "      <th>(iv)</th>\n",
       "      <td>416</td>\n",
       "      <td>104</td>\n",
       "      <td>520</td>\n",
       "    </tr>\n",
       "  </tbody>\n",
       "</table>\n",
       "</div>"
      ],
      "text/plain": [
       "       train  test    all\n",
       "(i)     5313  1328   6641\n",
       "(ii)   25322  6331  31653\n",
       "(iii)   3509   877   4386\n",
       "(iv)     416   104    520"
      ]
     },
     "execution_count": 2,
     "metadata": {},
     "output_type": "execute_result"
    }
   ],
   "source": [
    "pd.DataFrame(\n",
    "    {\n",
    "        \"train\": train_df[\"Label\"].value_counts().sort_index(),\n",
    "        \"test\": test_df[\"Label\"].value_counts().sort_index(),\n",
    "        \"all\": df[\"Label\"].value_counts().sort_index(),\n",
    "    }\n",
    ").set_axis([\"(i)\", \"(ii)\", \"(iii)\", \"(iv)\"], axis=\"index\")"
   ]
  },
  {
   "cell_type": "code",
   "execution_count": 3,
   "id": "9e2649fc-86ee-4546-a381-8016be4bef15",
   "metadata": {},
   "outputs": [
    {
     "data": {
      "image/png": "[encoded data removed]",
      "text/plain": [
       "<Figure size 432x288 with 1 Axes>"
      ]
     },
     "metadata": {
      "needs_background": "light"
     },
     "output_type": "display_data"
    }
   ],
   "source": [
    "import matplotlib.pyplot as plt\n",
    "\n",
    "plt.rcParams[\"font.size\"] = 20\n",
    "plt.bar(\n",
    "    range(4),\n",
    "    df[\"Label\"].value_counts().sort_index(),\n",
    "    tick_label=[\"(i)\", \"(ii)\", \"(iii)\", \"(iv)\"],\n",
    ")\n",
    "plt.show()"
   ]
  }
 ],
 "metadata": {
  "kernelspec": {
   "display_name": "Python 3 (ipykernel)",
   "language": "python",
   "name": "python3"
  },
  "language_info": {
   "codemirror_mode": {
    "name": "ipython",
    "version": 3
   },
   "file_extension": ".py",
   "mimetype": "text/x-python",
   "name": "python",
   "nbconvert_exporter": "python",
   "pygments_lexer": "ipython3",
   "version": "3.8.10"
  }
 },
 "nbformat": 4,
 "nbformat_minor": 5
}
